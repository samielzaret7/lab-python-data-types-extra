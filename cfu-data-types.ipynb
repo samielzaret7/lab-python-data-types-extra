{
 "cells": [
  {
   "cell_type": "markdown",
   "metadata": {},
   "source": [
    "# CFU | Data Types"
   ]
  },
  {
   "cell_type": "markdown",
   "metadata": {},
   "source": [
    "## Working with Data Types"
   ]
  },
  {
   "cell_type": "markdown",
   "metadata": {},
   "source": [
    "Objective: Practice working with different data types and their corresponding operations."
   ]
  },
  {
   "cell_type": "markdown",
   "metadata": {},
   "source": [
    "### Exercise 1: Calculate remaining salary"
   ]
  },
  {
   "cell_type": "markdown",
   "metadata": {},
   "source": [
    "In this exercise, prompt the user to enter their personal information such as name, age, address, salary, and expenses, and then perform some calculations to determine how much money they have left after expenses. \n",
    "\n",
    "Use data type casting to ensure that the age, salary, and expenses are stored as integers or floats, as appropriate, and round the remaining money to one decimal. \n",
    "\n",
    "Use a boolean variable to indicate whether the remaining salary is greater than or equal to 500. \n",
    "\n",
    "Finally, you will use string formatting to print a message to the screen in the following format: \n",
    "\"*name*, who is *age* years old, and lives in *address* has *remaining_salary* dollars left from her salary after expenses. It is *is_salary_good* that she has more than $500 left.\", using the mentioned variables.\n",
    "\n",
    "*Hint:* \n",
    "- *You can use the input() function to ask the user to enter their information. Beware that input() function returns a String.*\n",
    "- *You can round the remaining salary to one decimal using the round() function.*\n",
    "- *Use data type conversion functions. Recommended external resources: [Data type conversion](https://www.geeksforgeeks.org/type-conversion-in-python/)*"
   ]
  },
  {
   "cell_type": "code",
   "execution_count": 51,
   "metadata": {},
   "outputs": [
    {
     "name": "stdout",
     "output_type": "stream",
     "text": [
      "What is your name? sam\n",
      "What is your age? 45\n",
      "What is your address? san juan\n",
      "What is your salary? 1000\n",
      "What are your expenses? 600\n",
      "Money left after expenses: 400.0\n",
      "Sam, who is 45.0 years old, and lives in San Juan has 400.0 dollars left from her salary after expenses. It is False that she has more than $500 left.\n"
     ]
    }
   ],
   "source": [
    "input_list = []\n",
    "name = input('What is your name? ')\n",
    "name = name.strip().capitalize()\n",
    "input_list.append(name)\n",
    "\n",
    "age = input('What is your age? ')\n",
    "while age.replace('.','').isnumeric()!=True:\n",
    "    age = input('Please only input numbers. What is your age? ')\n",
    "age = float(age)\n",
    "input_list.append(age)\n",
    "\n",
    "address = input('What is your address? ')\n",
    "address = address.strip().title()\n",
    "input_list.append(address)\n",
    "\n",
    "salary = input('What is your salary? ')\n",
    "while salary.replace(',','').replace('.','').isnumeric()!=True:\n",
    "    salary = input('Please only input numbers. What is your salary? ')\n",
    "salary = salary.replace(',','')\n",
    "salary = float(salary)\n",
    "input_list.append(salary)\n",
    "\n",
    "expenses = input('What are your expenses? ')\n",
    "while expenses.replace('.','').replace(',','').isnumeric()!=True:\n",
    "    expenses = input('Please only input numbers. What are your expenses? ')\n",
    "expenses = expenses.replace(',','')\n",
    "expenses = float(expenses)\n",
    "input_list.append(expenses)\n",
    "\n",
    "\n",
    "calculation = round(input_list[3]-input_list[4],1)\n",
    "\n",
    "print(f'Money left after expenses: {calculation}')\n",
    "\n",
    "is_salary_good = calculation > 500\n",
    "\n",
    "print(f'{name}, who is {age} years old, and lives in {address} has {calculation} dollars left from her salary after expenses. It is {is_salary_good} that she has more than $500 left.')"
   ]
  },
  {
   "cell_type": "markdown",
   "metadata": {},
   "source": [
    "\n",
    "### Exercise 2: Text Cleaning and Concatenation"
   ]
  },
  {
   "cell_type": "markdown",
   "metadata": {},
   "source": [
    "Write code that takes text from the variable `poem`, removes the punctuation and leaves everything in lowercase. \n",
    "\n",
    "Concatenate the resulting string with the string \"python is awesome!\" and store the result in a new variable. \n",
    "\n",
    "Print the length of the new string.\n",
    "\n",
    "Split the string into a list of strings using the space delimiter, save it in a variable `poem_list` and print it. \n",
    "\n",
    "*Hint:*\n",
    "\n",
    "- *You can use the len() function to get the length of a string.*\n",
    "- *Search string methods to accomplish the other steps. Recommended External Resources: [Python String Methods](https://www.w3schools.com/python/python_ref_string.asp)*\n",
    "- *Use method chaining to simplify your code. If you are not sure what it is, read this tutorial before: https://pyneng.readthedocs.io/en/latest/book/04_data_structures/method_chaining.html*\n"
   ]
  },
  {
   "cell_type": "code",
   "execution_count": 46,
   "metadata": {},
   "outputs": [],
   "source": [
    "poem = \"\"\"Some say the world will end in fire,\n",
    "Some say in ice.\n",
    "From what I’ve tasted of desire\n",
    "I hold with those who favor fire.\n",
    "But if it had to perish twice,\n",
    "I think I know enough of hate\n",
    "To say that for destruction ice\n",
    "Is also great\n",
    "And would suffice.\"\"\""
   ]
  },
  {
   "cell_type": "code",
   "execution_count": 48,
   "metadata": {},
   "outputs": [
    {
     "data": {
      "text/plain": [
       "['some say the world will end in fire',\n",
       " 'some say in ice',\n",
       " 'from what i’ve tasted of desire',\n",
       " 'i hold with those who favor fire',\n",
       " 'but if it had to perish twice',\n",
       " 'i think i know enough of hate',\n",
       " 'to say that for destruction ice',\n",
       " 'is also great',\n",
       " 'and would suffice']"
      ]
     },
     "execution_count": 48,
     "metadata": {},
     "output_type": "execute_result"
    }
   ],
   "source": [
    "poem = poem.replace('.','').replace(',','').lower().splitlines()\n",
    "poem"
   ]
  },
  {
   "cell_type": "code",
   "execution_count": 55,
   "metadata": {},
   "outputs": [
    {
     "data": {
      "text/plain": [
       "['some say the world will end in fire',\n",
       " 'some say in ice',\n",
       " 'from what i’ve tasted of desire',\n",
       " 'i hold with those who favor fire',\n",
       " 'but if it had to perish twice',\n",
       " 'i think i know enough of hate',\n",
       " 'to say that for destruction ice',\n",
       " 'is also great',\n",
       " 'and would suffice',\n",
       " 'python is awesome!']"
      ]
     },
     "execution_count": 55,
     "metadata": {},
     "output_type": "execute_result"
    }
   ],
   "source": [
    "poem.append('python is awesome!')\n",
    "poem"
   ]
  },
  {
   "cell_type": "code",
   "execution_count": 82,
   "metadata": {},
   "outputs": [
    {
     "name": "stdout",
     "output_type": "stream",
     "text": [
      "some say the world will end in fire\n",
      "some say in ice\n",
      "from what i’ve tasted of desire\n",
      "i hold with those who favor fire\n",
      "but if it had to perish twice\n",
      "i think i know enough of hate\n",
      "to say that for destruction ice\n",
      "is also great\n",
      "and would suffice\n",
      "python is awesome!\n"
     ]
    }
   ],
   "source": [
    "separator = '\\n'\n",
    "new_poem = separator.join(poem)\n",
    "print(new_poem)"
   ]
  },
  {
   "cell_type": "code",
   "execution_count": 83,
   "metadata": {},
   "outputs": [
    {
     "data": {
      "text/plain": [
       "259"
      ]
     },
     "execution_count": 83,
     "metadata": {},
     "output_type": "execute_result"
    }
   ],
   "source": [
    "len(new_poem)"
   ]
  },
  {
   "cell_type": "code",
   "execution_count": 87,
   "metadata": {},
   "outputs": [
    {
     "name": "stdout",
     "output_type": "stream",
     "text": [
      "['some', 'say', 'the', 'world', 'will', 'end', 'in', 'fire', 'some', 'say', 'in', 'ice', 'from', 'what', 'i’ve', 'tasted', 'of', 'desire', 'i', 'hold', 'with', 'those', 'who', 'favor', 'fire', 'but', 'if', 'it', 'had', 'to', 'perish', 'twice', 'i', 'think', 'i', 'know', 'enough', 'of', 'hate', 'to', 'say', 'that', 'for', 'destruction', 'ice', 'is', 'also', 'great', 'and', 'would', 'suffice', 'python', 'is', 'awesome!']\n"
     ]
    }
   ],
   "source": [
    "poem = new_poem.split()\n",
    "print(poem)"
   ]
  },
  {
   "cell_type": "code",
   "execution_count": null,
   "metadata": {},
   "outputs": [],
   "source": []
  }
 ],
 "metadata": {
  "kernelspec": {
   "display_name": "Python 3 (ipykernel)",
   "language": "python",
   "name": "python3"
  },
  "language_info": {
   "codemirror_mode": {
    "name": "ipython",
    "version": 3
   },
   "file_extension": ".py",
   "mimetype": "text/x-python",
   "name": "python",
   "nbconvert_exporter": "python",
   "pygments_lexer": "ipython3",
   "version": "3.11.5"
  }
 },
 "nbformat": 4,
 "nbformat_minor": 4
}
